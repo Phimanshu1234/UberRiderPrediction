{
 "cells": [
  {
   "cell_type": "code",
   "execution_count": 1,
   "metadata": {},
   "outputs": [],
   "source": [
    "import mysql.connector"
   ]
  },
  {
   "cell_type": "code",
   "execution_count": 2,
   "metadata": {},
   "outputs": [
    {
     "name": "stdout",
     "output_type": "stream",
     "text": [
      "Connection is established\n"
     ]
    }
   ],
   "source": [
    "mydb=mysql.connector.connect(host=\"localhost\",user=\"root\",passwd=\"\",database=\"mldb\")\n",
    "cursor=mydb.cursor()\n",
    "print(\"Connection is established\")"
   ]
  },
  {
   "cell_type": "code",
   "execution_count": 3,
   "metadata": {},
   "outputs": [
    {
     "name": "stdout",
     "output_type": "stream",
     "text": [
      "Enter Employee Id to update record : 1002\n",
      "1-> To update empname\n",
      "2-> To update departname\n",
      "3-> To update salary\n",
      "2\n",
      "Enter Department Name : Management\n",
      "Record is updated successfully\n"
     ]
    }
   ],
   "source": [
    "empid=int(input(\"Enter Employee Id to update record : \"))\n",
    "print(\"1-> To update empname\")\n",
    "print(\"2-> To update departname\")\n",
    "print(\"3-> To update salary\")\n",
    "ch=int(input())\n",
    "sql=\"\"\n",
    "if ch==1:\n",
    "    empname=input(\"Enter Employee Name : \")\n",
    "    sql=\"update empinfo set empname='\"+empname+\"' where empid='\"+str(empid)+\"'\"\n",
    "elif ch==2:\n",
    "    department=input(\"Enter Department Name : \")\n",
    "    sql=\"update empinfo set department='\"+department+\"' where empid='\"+str(empid)+\"'\"\n",
    "elif ch==3:\n",
    "    salary=int(input(\"Enter Salary: \"))\n",
    "    sql=\"update empinfo set salary='\"+str(salary)+\"' where empid='\"+str(empid)+\"'\"\n",
    "cursor.execute(sql)\n",
    "mydb.commit()\n",
    "print(\"Record is updated successfully\")"
   ]
  }
 ],
 "metadata": {
  "kernelspec": {
   "display_name": "Python 3",
   "language": "python",
   "name": "python3"
  },
  "language_info": {
   "codemirror_mode": {
    "name": "ipython",
    "version": 3
   },
   "file_extension": ".py",
   "mimetype": "text/x-python",
   "name": "python",
   "nbconvert_exporter": "python",
   "pygments_lexer": "ipython3",
   "version": "3.9.0"
  }
 },
 "nbformat": 4,
 "nbformat_minor": 4
}
