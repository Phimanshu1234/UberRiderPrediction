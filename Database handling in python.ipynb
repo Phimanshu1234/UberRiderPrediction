{
 "cells": [
  {
   "cell_type": "markdown",
   "metadata": {},
   "source": [
    "# Database Handling in Python"
   ]
  },
  {
   "cell_type": "code",
   "execution_count": 1,
   "metadata": {},
   "outputs": [
    {
     "name": "stdout",
     "output_type": "stream",
     "text": [
      "connection is established\n"
     ]
    }
   ],
   "source": [
    "#perform insert operation\n",
    "import mysql.connector\n",
    "mydb=mysql.connector.connect(host=\"localhost\",user=\"root\",database=\"mldb\",passwd=\"\")\n",
    "print(\"connection is established\")"
   ]
  },
  {
   "cell_type": "code",
   "execution_count": 2,
   "metadata": {},
   "outputs": [
    {
     "name": "stdout",
     "output_type": "stream",
     "text": [
      "Enter Employee Id : 1002\n",
      "Enter Employee Name : rajeev\n",
      "Enter Department : hr\n",
      "Enter salary : 50000\n",
      "Employee Information is saved\n"
     ]
    }
   ],
   "source": [
    "cursor=mydb.cursor() #The cursor specifies the sql operation\n",
    "empid=int(input(\"Enter Employee Id : \"))\n",
    "empname=input(\"Enter Employee Name : \")\n",
    "department=input(\"Enter Department : \")\n",
    "salary=int(input(\"Enter salary : \"))\n",
    "query=\"insert into empinfo values('\"+str(empid)+\"','\"+empname+\"','\"+department+\"','\"+str(salary)+\"')\"\n",
    "cursor.execute(query)\n",
    "mydb.commit()\n",
    "print(\"Employee Information is saved\")"
   ]
  },
  {
   "cell_type": "code",
   "execution_count": 3,
   "metadata": {},
   "outputs": [
    {
     "name": "stdout",
     "output_type": "stream",
     "text": [
      "(1001, 'Himanshu', 'information', 120000)\n",
      "(1002, 'rajeev', 'hr', 50000)\n"
     ]
    }
   ],
   "source": [
    "#How to select data from table\n",
    "cursor.execute(\"select * from empinfo\")\n",
    "myresult=cursor.fetchall()\n",
    "for row in myresult:\n",
    "    print(row)"
   ]
  },
  {
   "cell_type": "code",
   "execution_count": null,
   "metadata": {},
   "outputs": [],
   "source": []
  }
 ],
 "metadata": {
  "kernelspec": {
   "display_name": "Python 3",
   "language": "python",
   "name": "python3"
  },
  "language_info": {
   "codemirror_mode": {
    "name": "ipython",
    "version": 3
   },
   "file_extension": ".py",
   "mimetype": "text/x-python",
   "name": "python",
   "nbconvert_exporter": "python",
   "pygments_lexer": "ipython3",
   "version": "3.9.0"
  }
 },
 "nbformat": 4,
 "nbformat_minor": 4
}
