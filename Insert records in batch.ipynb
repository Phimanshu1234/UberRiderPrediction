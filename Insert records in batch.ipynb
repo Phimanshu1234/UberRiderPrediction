{
 "cells": [
  {
   "cell_type": "code",
   "execution_count": 1,
   "metadata": {},
   "outputs": [],
   "source": [
    "import mysql.connector"
   ]
  },
  {
   "cell_type": "code",
   "execution_count": 2,
   "metadata": {},
   "outputs": [
    {
     "name": "stdout",
     "output_type": "stream",
     "text": [
      "Connection is established\n"
     ]
    }
   ],
   "source": [
    "mydb=mysql.connector.connect(host=\"localhost\",user=\"root\",database=\"mldb\",passwd=\"\")\n",
    "cursor=mydb.cursor()\n",
    "print(\"Connection is established\")"
   ]
  },
  {
   "cell_type": "code",
   "execution_count": 4,
   "metadata": {},
   "outputs": [
    {
     "name": "stdout",
     "output_type": "stream",
     "text": [
      "All records are inserted\n"
     ]
    }
   ],
   "source": [
    "data=[(1003,\"Ankit\",\"Development\",80000),(1004,\"Sima\",\"Testing\",35000),(1005,\"Aman\",\"HR\",95000)]\n",
    "sql=\"insert into empinfo values(%s,%s,%s,%s)\"\n",
    "cursor.executemany(sql,data)\n",
    "mydb.commit()\n",
    "print(\"All records are inserted\")"
   ]
  },
  {
   "cell_type": "code",
   "execution_count": null,
   "metadata": {},
   "outputs": [],
   "source": []
  }
 ],
 "metadata": {
  "kernelspec": {
   "display_name": "Python 3",
   "language": "python",
   "name": "python3"
  },
  "language_info": {
   "codemirror_mode": {
    "name": "ipython",
    "version": 3
   },
   "file_extension": ".py",
   "mimetype": "text/x-python",
   "name": "python",
   "nbconvert_exporter": "python",
   "pygments_lexer": "ipython3",
   "version": "3.9.0"
  }
 },
 "nbformat": 4,
 "nbformat_minor": 4
}
